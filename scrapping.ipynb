{
 "cells": [
  {
   "cell_type": "code",
   "execution_count": 46,
   "id": "8f68e838",
   "metadata": {},
   "outputs": [],
   "source": [
    "from bs4 import BeautifulSoup\n",
    "import requests \n",
    "import openpyxl\n",
    "excel=openpyxl.Workbook()\n",
    "sheet=excel.active\n",
    "sheet.title='top rated movies'\n",
    "sheet.append(['rank','name','release','ratings'])"
   ]
  },
  {
   "cell_type": "code",
   "execution_count": 40,
   "id": "4fc23ab7",
   "metadata": {},
   "outputs": [],
   "source": [
    "source=requests.get(\"https://www.imdb.com/chart/top/\")\n",
    "source.raise_for_status()"
   ]
  },
  {
   "cell_type": "code",
   "execution_count": 41,
   "id": "05f8c9d5",
   "metadata": {},
   "outputs": [],
   "source": [
    "soup = BeautifulSoup(source.text,'html.parser')"
   ]
  },
  {
   "cell_type": "code",
   "execution_count": 31,
   "id": "b9a2b8fa",
   "metadata": {},
   "outputs": [],
   "source": [
    "movies = soup.find('tbody',class_=\"lister-list\").find_all('tr')"
   ]
  },
  {
   "cell_type": "code",
   "execution_count": 47,
   "id": "3ade5cf2",
   "metadata": {},
   "outputs": [],
   "source": [
    "for movie in movies:\n",
    "    name=movie.find('td',class_=\"titleColumn\").a.text\n",
    "    rank=movie.find('td',class_=\"titleColumn\").get_text(strip=True).split('.')[0]\n",
    "    year=movie.find('td',class_=\"titleColumn\").span.text.strip('()')\n",
    "    rating=movie.find('td',class_=\"ratingColumn imdbRating\").strong.text\n",
    "    \n",
    "    sheet.append([rank,name,year,rating])\n"
   ]
  },
  {
   "cell_type": "code",
   "execution_count": 48,
   "id": "997cc023",
   "metadata": {},
   "outputs": [],
   "source": [
    "excel.save('movierating.xlsx')"
   ]
  },
  {
   "cell_type": "code",
   "execution_count": null,
   "id": "e178f43c",
   "metadata": {},
   "outputs": [],
   "source": []
  }
 ],
 "metadata": {
  "kernelspec": {
   "display_name": "Python 3 (ipykernel)",
   "language": "python",
   "name": "python3"
  },
  "language_info": {
   "codemirror_mode": {
    "name": "ipython",
    "version": 3
   },
   "file_extension": ".py",
   "mimetype": "text/x-python",
   "name": "python",
   "nbconvert_exporter": "python",
   "pygments_lexer": "ipython3",
   "version": "3.9.12"
  }
 },
 "nbformat": 4,
 "nbformat_minor": 5
}
